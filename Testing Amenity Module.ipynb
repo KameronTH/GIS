{
 "cells": [
  {
   "cell_type": "code",
   "execution_count": 1,
   "id": "a5b2d13a",
   "metadata": {},
   "outputs": [
    {
     "name": "stdout",
     "output_type": "stream",
     "text": [
      "The following movies are availible in your area: Spiderman Far From Home, Jurassic World, Puss In Boots, Doctor Strange Into The Multiverse, Avatar, Thor, Elvis, and The Lego Movie.\n",
      "What are the WGS coordinates of your location?\n",
      "35.68318487414534, -105.94183841254167\n",
      "From the list, which movie would you like to watch?\n",
      "Elvis\n",
      "The following theaters are currently showing Elvis are: Regal Santa Fe, Violet Crown Santa Fe, and Jean Cocteau Cinema.\n",
      "Would you like to know how far you are from these theaters? Y/N \n",
      "y\n",
      "Browsing status: True\n",
      "You are 5.04 linear miles away from Regal Santa Fe.\n",
      "You are 0.42 linear miles away from Violet Crown Santa Fe.\n",
      "You are 0.3 linear miles away from Jean Cocteau Cinema.\n",
      "Would you like to see a map of the theaters near you that are showing this movie?: Y/N\n",
      "y\n",
      "Would you like to restart your search?n\n",
      "Thank you for using this app.\n"
     ]
    }
   ],
   "source": [
    "\"\"\"This script is an example of how to use my find_anemities module to find locations near a user based on the user's \n",
    "interest. In this example, I am using the functions to find movie theaters that match the user's interest\"\"\"\n",
    "\n",
    "import find_amenity\n",
    "\n",
    "browsing = True\n",
    "while browsing == True:\n",
    "    movies = [\"Jurassic World\", \"Spiderman Far From Home\", \"Doctor Strange into the Multiverse\", \"The Lego Movie\",\n",
    "              \"Elvis\", \"Avatar\", \"Puss in Boots\", \"Thor\"]\n",
    "    availible_movies = find_amenity.availible_features(movies[:])\n",
    "    print(f\"The following movies are availible in your area: {find_amenity.neat_feature_naming(availible_movies)}.\")\n",
    "\n",
    "    #Theaters in area\n",
    "    regal_SF = {\"Name\": \"Regal Santa Fe\",\n",
    "                \"Address\": \"3474 Zafarano Dr, Santa Fe, NM 87507\",\n",
    "                \"WGS Coordinates\": [35.642034836788696, -106.01596691208717],\n",
    "                \"Availible Movies\": movies[1:4],\n",
    "                }\n",
    "\n",
    "    violet_SF = {\n",
    "        \"Name\": \"Violet Crown Santa Fe\",\n",
    "        \"Address\": \"1606 Alcaldesa St, Santa Fe, NM 87501\",\n",
    "        \"WGS Coordinates\": [35.683240833745316, -105.94922900025317],\n",
    "        \"Availible Movies\": movies[4:6]\n",
    "\n",
    "    }\n",
    "\n",
    "    Jean_SF = {\n",
    "        \"Name\": \"Jean Cocteau Cinema\",\n",
    "        \"Address\": \"418 Montezuma Ave, Santa Fe, NM 87501\",\n",
    "        \"WGS Coordinates\": [35.68517543856058, -105.94648241838078],\n",
    "        \"Availible Movies\": movies[3:7],\n",
    "    }\n",
    "    theaters = [regal_SF, violet_SF, Jean_SF]\n",
    "    location_information = []\n",
    "    for i in theaters:\n",
    "        places = find_amenity.availible_locations_info(i[\"Name\"], [i[\"WGS Coordinates\"][0], i[\"WGS Coordinates\"][1]],\n",
    "                                                       i[\"Availible Movies\"], locations=i[\"Address\"])\n",
    "        location_information.append(places)\n",
    "\n",
    "    my_location = find_amenity.user_location()\n",
    "\n",
    "    for location in location_information:\n",
    "        location[\"Projected_Coordinates\"] = \"\"\n",
    "\n",
    "    for location in location_information:\n",
    "        for i, l in location.items():\n",
    "            if i == \"WGS Coordinates\":\n",
    "                projected_places = find_amenity.location_reprojection(WGS_Location=[l[0], l[1]],\n",
    "                                                                      projected_crs_ESPG=32113)\n",
    "                location[\"Projected_Coordinates\"] = projected_places\n",
    "\n",
    "    user_projected_location = find_amenity.location_reprojection(my_location, projected_crs_ESPG=32113)\n",
    "\n",
    "    matching_locations = []\n",
    "    interested_movie = input(\"From the list, which movie would you like to watch?\\n\")\n",
    "    for place_AOI in location_information:\n",
    "        matching_locations.append(find_amenity.selecting_location(interested_movie, availible_movies, place_AOI))\n",
    "    matching_locations_names = [x[\"Name\"] for x in matching_locations]\n",
    "    print(f\"The following theaters are currently showing {interested_movie} \"\n",
    "          f\"are: {find_amenity.neat_feature_naming(matching_locations_names)}.\")\n",
    "\n",
    "    continue_step = input(\"Would you like to know how far you are from these theaters? Y/N \\n\")\n",
    "    browsing = find_amenity.response_check(continue_step)\n",
    "    print(f\"Browsing status: {browsing}\")\n",
    "    if browsing != True:\n",
    "        print(\"Thank you for using this app.\")\n",
    "        quit()\n",
    "    elif browsing != False:\n",
    "        for i in matching_locations:\n",
    "            distance_from_user = find_amenity.aoi_distance(i[\"Name\"], user_projected_location, i[\"Projected_Coordinates\"])\n",
    "            print(f\"You are {distance_from_user} linear miles away from {i['Name']}.\")\n",
    "\n",
    "        map_view = input(f\"Would you like to see a map of the theaters near you that are showing this movie?: Y/N\\n\")\n",
    "        browsing = find_amenity.response_check(map_view)\n",
    "        if browsing != True:\n",
    "            print(\"Thank you for using this app.\")\n",
    "            quit()\n",
    "        elif browsing != False:\n",
    "            m = find_amenity.map_to_feature(matching_locations, my_location)\n",
    "            m  # run in Jupyter Notebook on seperate line\n",
    "\n",
    "        restart = input(f\"Would you like to restart your search?\")\n",
    "        browsing = find_amenity.response_check(restart)\n",
    "        if browsing != True:\n",
    "            print(\"Thank you for using this app.\")"
   ]
  },
  {
   "cell_type": "code",
   "execution_count": 2,
   "id": "f58e4378",
   "metadata": {
    "scrolled": false
   },
   "outputs": [
    {
     "data": {
      "application/vnd.jupyter.widget-view+json": {
       "model_id": "1ea9d06b03a24b7a8ef21797bd912506",
       "version_major": 2,
       "version_minor": 0
      },
      "text/plain": [
       "Map(center=[35.68318487414534, -105.94183841254167], controls=(ZoomControl(options=['position', 'zoom_in_text'…"
      ]
     },
     "metadata": {},
     "output_type": "display_data"
    }
   ],
   "source": [
    "m"
   ]
  },
  {
   "cell_type": "code",
   "execution_count": 19,
   "id": "7aa1a69c",
   "metadata": {},
   "outputs": [],
   "source": [
    "m"
   ]
  },
  {
   "cell_type": "code",
   "execution_count": 15,
   "id": "d36809ec",
   "metadata": {},
   "outputs": [
    {
     "data": {
      "application/vnd.jupyter.widget-view+json": {
       "model_id": "9d2f4087b44d41ada621491b97f29e85",
       "version_major": 2,
       "version_minor": 0
      },
      "text/plain": [
       "Map(center=[38.91342738235981, -77.03912909142674], controls=(ZoomControl(options=['position', 'zoom_in_text',…"
      ]
     },
     "metadata": {},
     "output_type": "display_data"
    }
   ],
   "source": [
    "def test_map():\n",
    "    from ipyleaflet import AwesomeIcon, Marker, Map\n",
    "\n",
    "    center = (38.91342738235981, -77.03912909142674)\n",
    "\n",
    "    icon1 = AwesomeIcon(\n",
    "        name='bus',\n",
    "        marker_color='red',\n",
    "        icon_color='black',\n",
    "        spin=False\n",
    "    )\n",
    "\n",
    "    marker1 = Marker(icon=icon1, location=(center[0], center[1] - 0.05))\n",
    "\n",
    "    icon2 = AwesomeIcon(\n",
    "        name='gear',\n",
    "        marker_color='green',\n",
    "        icon_color='darkgreen',\n",
    "        spin=True\n",
    "    )\n",
    "\n",
    "    marker2 = Marker(icon=icon2, location=(center[0], center[1] + 0.05))\n",
    "\n",
    "    m = Map(center=center, zoom=13)\n",
    "\n",
    "    m.add_layer(marker1)\n",
    "    m.add_layer(marker2)\n",
    "\n",
    "    return m\n",
    "\n",
    "test_map()"
   ]
  },
  {
   "cell_type": "code",
   "execution_count": null,
   "id": "86bbb33e",
   "metadata": {},
   "outputs": [],
   "source": []
  }
 ],
 "metadata": {
  "kernelspec": {
   "display_name": "Python 3 (ipykernel)",
   "language": "python",
   "name": "python3"
  },
  "language_info": {
   "codemirror_mode": {
    "name": "ipython",
    "version": 3
   },
   "file_extension": ".py",
   "mimetype": "text/x-python",
   "name": "python",
   "nbconvert_exporter": "python",
   "pygments_lexer": "ipython3",
   "version": "3.8.12"
  }
 },
 "nbformat": 4,
 "nbformat_minor": 5
}
